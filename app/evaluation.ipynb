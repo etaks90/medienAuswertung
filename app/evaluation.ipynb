{
 "cells": [
  {
   "cell_type": "code",
   "execution_count": null,
   "metadata": {},
   "outputs": [],
   "source": [
    "from lib import utils\n",
    "\n",
    "l_show_name= [\"anne-will\", \"hart-aber-fair\", \"maischberger-ard\", \"markus-lanz\", \"maybrit-illner\"]\n",
    "df_episoden, df_gaeste = utils.prepare_df_for_eval_zeitentwicklung(l_show_name)\n",
    "sendungen = list(set(df_episoden[\"sendung\"].to_list())) + [\"alle\"]\n",
    "for filter_sendung in sendungen:\n",
    "    print(filter_sendung)\n",
    "    utils.plot_time_evolution(df_episoden, df_gaeste, filter_sendung)"
   ]
  }
 ],
 "metadata": {
  "language_info": {
   "name": "python"
  },
  "orig_nbformat": 4
 },
 "nbformat": 4,
 "nbformat_minor": 2
}
