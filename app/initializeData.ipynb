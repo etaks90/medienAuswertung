{
 "cells": [
  {
   "cell_type": "code",
   "execution_count": 1,
   "metadata": {},
   "outputs": [
    {
     "name": "stdout",
     "output_type": "stream",
     "text": [
      "https://www.fernsehserien.de/maischberger-ard/sendetermine\n",
      "https://www.fernsehserien.de/maischberger-ard/sendetermine/-2\n",
      "https://www.fernsehserien.de/maischberger-ard/sendetermine/-3\n",
      "LINK ERROR\n"
     ]
    }
   ],
   "source": [
    "# download links\n",
    "\n",
    "%reload_ext autoreload\n",
    "#%autoreload 2\n",
    "from lib import utils\n",
    "\n",
    "show_name = \"maischberger-ard\"\n",
    "links = utils.download_links_old(show_name)"
   ]
  },
  {
   "cell_type": "code",
   "execution_count": null,
   "metadata": {},
   "outputs": [],
   "source": [
    "# download html for links\n",
    "\n",
    "j_html = utils.download_html_from_links(show_name, links, skip_available_files = True)"
   ]
  },
  {
   "cell_type": "code",
   "execution_count": 1,
   "metadata": {},
   "outputs": [
    {
     "name": "stderr",
     "output_type": "stream",
     "text": [
      "100%|██████████| 524/524 [01:24<00:00,  6.18it/s]\n",
      "100%|██████████| 524/524 [00:00<00:00, 6311.03it/s]\n",
      "100%|██████████| 530/530 [01:20<00:00,  6.59it/s]\n",
      "100%|██████████| 530/530 [00:00<00:00, 9637.02it/s]\n",
      "100%|██████████| 729/729 [01:51<00:00,  6.53it/s]\n",
      "100%|██████████| 729/729 [00:00<00:00, 5278.62it/s]\n",
      "100%|██████████| 1683/1683 [03:52<00:00,  7.24it/s]\n",
      "100%|██████████| 1683/1683 [00:00<00:00, 7328.74it/s]\n",
      "100%|██████████| 448/448 [01:04<00:00,  6.92it/s]\n",
      "100%|██████████| 448/448 [00:00<00:00, 7990.99it/s]\n"
     ]
    }
   ],
   "source": [
    "# extract information from html\n",
    "\n",
    "from lib import utils\n",
    "\n",
    "l_show_name= [\"anne-will\", \"hart-aber-fair\", \"maischberger-ard\", \"markus-lanz\", \"maybrit-illner\"]\n",
    "\n",
    "html = {}\n",
    "for show_name in l_show_name:\n",
    "    html[show_name] = utils.read_html_to_json(show_name)\n",
    "    episoden = utils.extract_json_from_html(show_name, html[show_name])\n"
   ]
  },
  {
   "cell_type": "code",
   "execution_count": null,
   "metadata": {},
   "outputs": [],
   "source": []
  },
  {
   "cell_type": "code",
   "execution_count": null,
   "metadata": {},
   "outputs": [],
   "source": []
  },
  {
   "cell_type": "code",
   "execution_count": null,
   "metadata": {},
   "outputs": [],
   "source": []
  },
  {
   "cell_type": "code",
   "execution_count": null,
   "metadata": {},
   "outputs": [],
   "source": []
  },
  {
   "cell_type": "code",
   "execution_count": null,
   "metadata": {},
   "outputs": [],
   "source": []
  },
  {
   "cell_type": "code",
   "execution_count": 1,
   "metadata": {},
   "outputs": [
    {
     "data": {
      "text/plain": [
       "1"
      ]
     },
     "execution_count": 1,
     "metadata": {},
     "output_type": "execute_result"
    }
   ],
   "source": [
    "# write episodes to db\n",
    "\n",
    "%reload_ext autoreload\n",
    "#%autoreload 2\n",
    "from lib import utils\n",
    "import json\n",
    "l_show_name= [\"anne-will\", \"hart-aber-fair\", \"maischberger-ard\", \"markus-lanz\", \"maybrit-illner\"]\n",
    "#l_show_name= [\"markus-lanz\"]\n",
    "\n",
    "episoden = []\n",
    "for show_name in l_show_name:\n",
    "    \n",
    "    episoden.append(utils.read_episoden_to_json(show_name))\n",
    "\n",
    "episoden = {k:v for element in episoden for k,v in element.items()}\n",
    "df = utils.episoden_to_df(episoden)\n",
    "utils.write_df_to_db(\"SENDUNGEN\", df, constr = r\"C:\\Users\\oliver.koehn\\Documents\\talkshowsAuswerten\\private\\database\\medien.db\")"
   ]
  },
  {
   "cell_type": "code",
   "execution_count": 2,
   "metadata": {},
   "outputs": [
    {
     "data": {
      "text/plain": [
       "1"
      ]
     },
     "execution_count": 2,
     "metadata": {},
     "output_type": "execute_result"
    }
   ],
   "source": [
    "# write guests to db\n",
    "\n",
    "from lib import utils\n",
    "import json\n",
    "import pandas as pd\n",
    "\n",
    "\n",
    "j_gaeste = {}\n",
    "liste_parteien = [\"SPD\", \"Grüne\", \"FDP\", \"CDU\", \"CSU\", \"AFD\", \"Linke\"]\n",
    "\n",
    "for e in episoden:\n",
    "    for g in episoden[e][\"gaeste\"]:\n",
    "        if not(g[\"name\"] in j_gaeste):\n",
    "            j_gaeste[g[\"name\"]] = {}\n",
    "            j_gaeste[g[\"name\"]][\"beschreibung\"] = []\n",
    "            j_gaeste[g[\"name\"]][\"partei\"] = []\n",
    "        j_gaeste[g[\"name\"]][\"beschreibung\"].append(g[\"beschreibung\"])\n",
    "        j_gaeste[g[\"name\"]][\"beschreibung\"] = list(set(j_gaeste[g[\"name\"]][\"beschreibung\"]))\n",
    "        partei = []\n",
    "        for partei in liste_parteien:\n",
    "            if partei.lower() in g[\"beschreibung\"].lower():\n",
    "                j_gaeste[g[\"name\"]][\"partei\"].append(partei)\n",
    "                j_gaeste[g[\"name\"]][\"partei\"] = list(set(j_gaeste[g[\"name\"]][\"partei\"]))\n",
    "\n",
    "l = []\n",
    "for e in j_gaeste:\n",
    "    j_dummy = {}\n",
    "    j_dummy[\"name\"] = e\n",
    "    j_dummy[\"beschreibung\"] = \",\".join(j_gaeste[e][\"beschreibung\"])\n",
    "    j_dummy[\"partei\"] = \",\".join(j_gaeste[e][\"partei\"])\n",
    "    l.append(j_dummy.copy())\n",
    "utils.write_df_to_db(\"Gaeste\", pd.DataFrame.from_records(l), constr = r\"C:\\Users\\oliver.koehn\\Documents\\talkshowsAuswerten\\private\\database\\medien.db\")"
   ]
  },
  {
   "cell_type": "code",
   "execution_count": 4,
   "metadata": {},
   "outputs": [
    {
     "name": "stdout",
     "output_type": "stream",
     "text": [
      "2011\n",
      "2012\n",
      "2013\n",
      "2023\n"
     ]
    },
    {
     "data": {
      "image/png": "[encoded data removed]",
      "text/plain": [
       "<Figure size 640x480 with 1 Axes>"
      ]
     },
     "metadata": {},
     "output_type": "display_data"
    }
   ],
   "source": [
    "# evaluation\n",
    "\n",
    "import pandas as pd\n",
    "import datetime\n",
    "from sqlite3 import connect\n",
    "import matplotlib.pyplot as plt\n",
    "from matplotlib.pyplot import figure\n",
    "\n",
    "\n",
    "sql_template = \"\"\"select partei, count(*) as c\n",
    "from sendungen\n",
    "inner join gaeste on 1 = 1\n",
    "and gaeste.name = sendungen.name\n",
    "where 1 = 1\n",
    "and datum >= 'DUMMYSTART'\n",
    "and datum <= 'DUMMYEND'\n",
    "and length(partei) > 1\n",
    "and instr(partei, ',') = 0\n",
    "group by partei\n",
    "order by 2 desc\n",
    ";\"\"\"\n",
    "\n",
    "d = {}\n",
    "for y in range(2010,2024):\n",
    "    start_date = datetime.datetime(y, 1, 1)\n",
    "    end_date = datetime.datetime(y+1, 5, 17)\n",
    "    sql = sql_template.replace(\"DUMMYSTART\",start_date.strftime(\"%Y-%m-%d\")).replace(\"DUMMYEND\",end_date.strftime(\"%Y-%m-%d\"))\n",
    "    df = pd.read_sql(sql, connect(r\"C:\\Users\\oliver.koehn\\Documents\\talkshowsAuswerten\\private\\database\\medien.db\"))\n",
    "\n",
    "    if len(df) == 0:\n",
    "        print(y)\n",
    "        continue\n",
    "    labels = df[\"partei\"].to_list()\n",
    "    c = df[\"c\"].to_list()\n",
    "    c = [100*e/sum(c) for e in c]\n",
    "\n",
    "    for partei, partei_count in zip(labels, c):\n",
    "        if not partei in d:\n",
    "            d[partei] = {}\n",
    "            d[partei][\"t\"] = []\n",
    "            d[partei][\"c\"] = []\n",
    "        d[partei][\"t\"].append(y)\n",
    "        d[partei][\"c\"].append(partei_count)\n",
    "\n",
    "\n",
    "\n",
    "    patches, texts = plt.pie(c)\n",
    "    labels = ['{0} - {1:1.2f} %'.format(i,j) for i,j in zip(labels, c)]\n",
    "    plt.legend(patches, labels, bbox_to_anchor=(-0.1, 1.)\n",
    "    #, loc = 'lower right'\n",
    "    ,           fontsize=8)\n",
    "    plt.savefig('out/plots/'+str(y) + '.pdf', bbox_inches = \"tight\")\n",
    "\n"
   ]
  }
 ],
 "metadata": {
  "kernelspec": {
   "display_name": "Python 3.10.5 ('venv': venv)",
   "language": "python",
   "name": "python3"
  },
  "language_info": {
   "codemirror_mode": {
    "name": "ipython",
    "version": 3
   },
   "file_extension": ".py",
   "mimetype": "text/x-python",
   "name": "python",
   "nbconvert_exporter": "python",
   "pygments_lexer": "ipython3",
   "version": "3.10.5"
  },
  "orig_nbformat": 4,
  "vscode": {
   "interpreter": {
    "hash": "a13fc95ec80c7d069a17f49ab514efd740cef86d3c0a0a8e5fcd78e0a5ced20d"
   }
  }
 },
 "nbformat": 4,
 "nbformat_minor": 2
}
